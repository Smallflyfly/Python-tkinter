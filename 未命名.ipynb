{
 "cells": [
  {
   "cell_type": "code",
   "execution_count": 1,
   "metadata": {},
   "outputs": [],
   "source": [
    "import tkinter as tk\n",
    "\n",
    "def thread_it(func, *args):\n",
    "    '''将函数打包进线程'''\n",
    "    # 创建\n",
    "    t = threading.Thread(target=func, args=args) \n",
    "    # 守护 !!!\n",
    "    t.setDaemon(True) \n",
    "    # 启动\n",
    "    t.start()\n",
    "    # 阻塞--卡死界面！\n",
    "    # t.join()\n",
    "\n",
    "\n",
    "if __name__=='__main__':\n",
    "    mytk = tk.Tk()\n",
    "    mytk.title('我的窗口')\n",
    "    mytk.geometry('140x140')\n",
    "    mytk.mainloop()\n",
    "    \n",
    "    \n",
    "    \n",
    "    "
   ]
  },
  {
   "cell_type": "code",
   "execution_count": null,
   "metadata": {},
   "outputs": [],
   "source": [
    "import tkinter as tk\n",
    "import time\n",
    "import threading\n",
    " \n",
    "songs = ['爱情买卖','朋友','回家过年','好日子']\n",
    "movies = ['阿凡达','猩球崛起']\n",
    " \n",
    "def music(songs):\n",
    "    global text # 故意的，注意与movie的区别\n",
    "    for s in songs:\n",
    "        text.insert(tk.END, \"听歌曲：%s \\t-- %s\\n\" %(s, time.ctime()))\n",
    "        time.sleep(3)\n",
    "\n",
    "def movie(movies, text):\n",
    "    for m in movies:\n",
    "        text.insert(tk.END, \"看电影：%s \\t-- %s\\n\" %(m, time.ctime()))\n",
    "        time.sleep(5)\n",
    " \n",
    "    \n",
    "def thread_it(func, *args):\n",
    "    '''将函数打包进线程'''\n",
    "    # 创建\n",
    "    t = threading.Thread(target=func, args=args) \n",
    "    # 守护 !!!\n",
    "    t.setDaemon(True) \n",
    "    # 启动\n",
    "    t.start()\n",
    "    # 阻塞--卡死界面！\n",
    "    # t.join()\n",
    " \n",
    " \n",
    "root = tk.Tk()\n",
    " \n",
    "text = tk.Text(root)\n",
    "text.pack()\n",
    " \n",
    "tk.Button(root, text='音乐', command=lambda :thread_it(music, songs)).pack()\n",
    "tk.Button(root, text='电影', command=lambda :thread_it(movie, movies, text)).pack()\n",
    " \n",
    "root.mainloop()"
   ]
  },
  {
   "cell_type": "code",
   "execution_count": null,
   "metadata": {},
   "outputs": [],
   "source": []
  }
 ],
 "metadata": {
  "kernelspec": {
   "display_name": "Python 3",
   "language": "python",
   "name": "python3"
  },
  "language_info": {
   "codemirror_mode": {
    "name": "ipython",
    "version": 3
   },
   "file_extension": ".py",
   "mimetype": "text/x-python",
   "name": "python",
   "nbconvert_exporter": "python",
   "pygments_lexer": "ipython3",
   "version": "3.7.3"
  }
 },
 "nbformat": 4,
 "nbformat_minor": 2
}
